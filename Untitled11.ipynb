{
  "nbformat": 4,
  "nbformat_minor": 0,
  "metadata": {
    "colab": {
      "provenance": []
    },
    "kernelspec": {
      "name": "python3",
      "display_name": "Python 3"
    },
    "language_info": {
      "name": "python"
    }
  },
  "cells": [
    {
      "cell_type": "code",
      "execution_count": null,
      "metadata": {
        "id": "QqP42v1XyXIQ"
      },
      "outputs": [],
      "source": []
    },
    {
      "cell_type": "markdown",
      "source": [
        "Theory questions answers\n",
        "\n",
        "---\n",
        "\n",
        "1. **Function vs Method**:\n",
        "\n",
        "   * A function is defined using `def` and works independently.\n",
        "   * A method is a function associated with an object/class.\n",
        "     **Example:**\n",
        "     `len(\"hello\")` (function), `\"hello\".upper()` (method).\n",
        "\n",
        "2. **Arguments vs Parameters**:\n",
        "\n",
        "   * Parameters are variables in the function definition; arguments are actual values passed.\n",
        "     **Example:**\n",
        "     `def add(a, b): return a + b` → `add(2, 3)`.\n",
        "\n",
        "3. **Ways to Define & Call Function**:\n",
        "\n",
        "   * Define with `def` or `lambda`, call using function name with parentheses.\n",
        "     **Example:**\n",
        "     `def greet(): print(\"Hi\")` → `greet()`.\n",
        "\n",
        "4. **Purpose of `return`**:\n",
        "\n",
        "   * It ends the function and sends a value back.\n",
        "     **Example:**\n",
        "     `def square(x): return x*x`.\n",
        "\n",
        "5. **Iterators vs Iterables**:\n",
        "\n",
        "   * Iterable: can return an iterator (like list).\n",
        "   * Iterator: has `__next__()` and `__iter__()` methods.\n",
        "     **Example:**\n",
        "     `it = iter([1,2,3])` → `next(it)`.\n",
        "\n",
        "6. **Generators**:\n",
        "\n",
        "   * Functions using `yield`, return values one at a time, saving memory.\n",
        "     **Example:**\n",
        "     `def gen(): yield 1; yield 2`.\n",
        "\n",
        "7. **Advantages of Generators**:\n",
        "\n",
        "   * Memory efficient, lazy evaluation (values on demand), good for large data.\n",
        "     **Example:**\n",
        "     Used in reading large files.\n",
        "\n",
        "8. **Lambda Function**:\n",
        "\n",
        "   * Anonymous single-expression function, used for short tasks.\n",
        "     **Example:**\n",
        "     `square = lambda x: x*x`.\n",
        "\n",
        "9. **Purpose of `map()`**:\n",
        "\n",
        "   * Applies a function to all items in an iterable.\n",
        "     **Example:**\n",
        "     `map(str, [1,2,3])` → `['1','2','3']`.\n",
        "\n",
        "10. **`map()` vs `reduce()` vs `filter()`**:\n",
        "\n",
        "* `map()`: transforms, `filter()`: selects, `reduce()`: aggregates.\n",
        "  **Example:**\n",
        "  `map(lambda x:x+1, [1,2])`,\n",
        "  `filter(lambda x:x%2==0, [1,2])`,\n",
        "  `reduce(lambda x,y:x+y, [1,2,3])`.\n",
        "\n",
        "\n",
        "\n",
        "\n"
      ],
      "metadata": {
        "id": "z5tDUp2iyYdJ"
      }
    },
    {
      "cell_type": "code",
      "source": [],
      "metadata": {
        "id": "Vbsw4D_Ryxrb"
      },
      "execution_count": null,
      "outputs": []
    },
    {
      "cell_type": "markdown",
      "source": [
        "practical questions\n"
      ],
      "metadata": {
        "id": "QBZ3h4kAyybq"
      }
    },
    {
      "cell_type": "code",
      "source": [
        "#1\n",
        "def sum_even(nums): return sum(x for x in nums if x % 2 == 0)\n"
      ],
      "metadata": {
        "id": "rqks7KSWy2de"
      },
      "execution_count": 2,
      "outputs": []
    },
    {
      "cell_type": "code",
      "source": [
        "#2\n",
        "def reverse_str(s): return s[::-1]\n"
      ],
      "metadata": {
        "id": "yRWASInJ0APM"
      },
      "execution_count": 3,
      "outputs": []
    },
    {
      "cell_type": "code",
      "source": [
        "#3\n",
        "def square_list(nums): return [x**2 for x in nums]\n"
      ],
      "metadata": {
        "id": "jkdcVig-0Kb-"
      },
      "execution_count": 4,
      "outputs": []
    },
    {
      "cell_type": "code",
      "source": [
        "#4\n",
        "def is_prime(n): return n > 1 and all(n % i != 0 for i in range(2, int(n**0.5)+1))\n"
      ],
      "metadata": {
        "id": "ajreOXiq0npu"
      },
      "execution_count": 5,
      "outputs": []
    },
    {
      "cell_type": "code",
      "source": [
        "#5\n",
        "class Fibonacci:\n",
        "    def __init__(self, n): self.n, self.a, self.b, self.count = n, 0, 1, 0\n",
        "    def __iter__(self): return self\n",
        "    def __next__(self):\n",
        "        if self.count >= self.n: raise StopIteration\n",
        "        self.a, self.b = self.b, self.a + self.b\n",
        "        self.count += 1\n",
        "        return self.a\n"
      ],
      "metadata": {
        "id": "1K7omyaZ0rNo"
      },
      "execution_count": 6,
      "outputs": []
    },
    {
      "cell_type": "code",
      "source": [
        "#6\n",
        "def powers_of_2(n):\n",
        "    for i in range(n+1): yield 2**i\n"
      ],
      "metadata": {
        "id": "-8Q1vsfD0yHu"
      },
      "execution_count": 8,
      "outputs": []
    },
    {
      "cell_type": "code",
      "source": [
        "#7\n",
        "def read_lines(filename):\n",
        "    with open(filename) as f:\n",
        "        for line in f: yield line.strip()\n"
      ],
      "metadata": {
        "id": "i8g7pmdn04um"
      },
      "execution_count": 9,
      "outputs": []
    },
    {
      "cell_type": "code",
      "source": [
        "#8\n",
        "tuples = [(1, 3), (2, 1), (4, 2)]\n",
        "sorted_list = sorted(tuples, key=lambda x: x[1])\n"
      ],
      "metadata": {
        "id": "iYbcAnyK1PYf"
      },
      "execution_count": 10,
      "outputs": []
    },
    {
      "cell_type": "code",
      "source": [
        "#9\n",
        "celsius = [0, 25, 100]\n",
        "fahrenheit = list(map(lambda c: (c * 9/5) + 32, celsius))\n"
      ],
      "metadata": {
        "id": "dTwZ-9CC2haU"
      },
      "execution_count": 11,
      "outputs": []
    },
    {
      "cell_type": "code",
      "source": [
        "#10\n",
        "def remove_vowels(s):\n",
        "    return ''.join(filter(lambda c: c.lower() not in 'aeiou', s))\n"
      ],
      "metadata": {
        "id": "YvdacdP72knV"
      },
      "execution_count": 12,
      "outputs": []
    }
  ]
}